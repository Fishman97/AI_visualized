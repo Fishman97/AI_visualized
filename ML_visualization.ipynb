{
 "cells": [
  {
   "cell_type": "markdown",
   "id": "4a5242da",
   "metadata": {},
   "source": [
    "\n",
    "# Visualization of Basic ML training\n",
    "Model: $$\\hat{y} = w_1 x_1 + w_2 x_2$$\n",
    "\n"
   ]
  },
  {
   "cell_type": "code",
   "execution_count": null,
   "id": "7d75c65b",
   "metadata": {
    "ExecuteTime": {
     "end_time": "2025-09-22T13:56:48.676707Z",
     "start_time": "2025-09-22T13:56:48.215573Z"
    }
   },
   "outputs": [],
   "source": [
    "import numpy as np #Importing the required libraries\n",
    "import pandas as pd\n",
    "import matplotlib.pyplot as plt\n",
    "from IPython.display import display\n",
    "import plotly.graph_objects as go\n",
    "\n",
    "random = np.random.default_rng(0)"
   ]
  },
  {
   "cell_type": "markdown",
   "id": "17cdc99f039d1dc9",
   "metadata": {},
   "source": [
    "\n",
    "## 1) Model diagram\n",
    "Two inputs to one output. Weights $w_1, w_2$.\n",
    "This next cell is used only to plot the model diagram, it's not necessary for the rest of the notebook\n"
   ]
  },
  {
   "cell_type": "code",
   "execution_count": null,
   "id": "2f9311b8440bade3",
   "metadata": {
    "ExecuteTime": {
     "end_time": "2025-09-22T13:56:49.183256Z",
     "start_time": "2025-09-22T13:56:49.066027Z"
    }
   },
   "outputs": [],
   "source": [
    "fig, ax = plt.subplots(figsize=(5.5,4))\n",
    "ax.axis('off')\n",
    "\n",
    "x1 = (0.2, 0.7)\n",
    "x2 = (0.2, 0.3)\n",
    "y  = (0.8, 0.5)\n",
    "radius = 0.06\n",
    "\n",
    "for (cx, cy), label in [(x1,'x₁'), (x2,'x₂'), (y,'ŷ')]:\n",
    "    circle = plt.Circle((cx, cy), radius, fill=False, linewidth=2)\n",
    "    ax.add_patch(circle)\n",
    "    ax.text(cx, cy, label, ha='center', va='center', fontsize=12)\n",
    "\n",
    "def edge_point(p1, p2, r):\n",
    "    dx, dy = p2[0]-p1[0], p2[1]-p1[1]\n",
    "    d = np.hypot(dx, dy)\n",
    "    if d == 0: return p1\n",
    "    return (p1[0] + dx/d*r, p1[1] + dy/d*r)\n",
    "\n",
    "for src, dst in [(x1, y), (x2, y)]:\n",
    "    start = edge_point(src, dst, radius)\n",
    "    end = edge_point(dst, src, radius)\n",
    "    ax.annotate('', xy=end, xytext=start, arrowprops=dict(arrowstyle='->', lw=2))\n",
    "\n",
    "ax.text((x1[0]+y[0])/2, (x1[1]+y[1])/2+0.05, 'w₁', ha='center', va='center', fontsize=12)\n",
    "ax.text((x2[0]+y[0])/2, (x2[1]+y[1])/2-0.05, 'w₂', ha='center', va='center', fontsize=12)\n",
    "\n",
    "ax.set_xlim(0, 1); ax.set_ylim(0, 1)\n",
    "plt.title('ML Model of this example:')\n",
    "plt.text(0.5, -0.08, r'$\\hat{y} = w_1 x_1 + w_2 x_2$', ha='center', va='top', fontsize=14, transform=ax.transAxes)\n",
    "plt.show()\n"
   ]
  },
  {
   "cell_type": "markdown",
   "id": "a5872a52",
   "metadata": {},
   "source": [
    "\n",
    "## 2) Synthetic dataset and table\n",
    "Ground truth: $$y = 2x_1 - 1.5x_2 + \\varepsilon$$\n"
   ]
  },
  {
   "cell_type": "code",
   "execution_count": null,
   "id": "d606a0dc",
   "metadata": {
    "ExecuteTime": {
     "end_time": "2025-09-22T13:56:50.143871Z",
     "start_time": "2025-09-22T13:56:50.051708Z"
    }
   },
   "outputs": [],
   "source": [
    "n = 60 # Number of samples\n",
    "X = random.normal(0, 1.0, size=(n, 2)) # Generate random features x1 and x2\n",
    "w_true = np.array([2.0, -1.5]) # Ground truth desidered weights\n",
    "y = X @ w_true + random.normal(loc=0, scale=3.9, size=n) # Generate target variable y with noise\n",
    "\n",
    "df = pd.DataFrame({'x1': X[:,0], 'x2': X[:,1], 'y': y}) # Create DataFrame viewing the generated points\n",
    "display(df.head(5)) # Display first 5 rows of the dataset\n",
    "\n",
    "fig = go.Figure(data=[ # 3D interactive scatter plot of the data points\n",
    "    go.Scatter3d(\n",
    "        x=X[:,0], y=X[:,1], z=y,\n",
    "        mode='markers',\n",
    "        marker=dict(size=6, color=y, colorscale='viridis', colorbar=dict(title='y')),\n",
    "        name='Data points'\n",
    "    )\n",
    "])\n",
    "\n",
    "fig.update_layout( # Set plot layout and axis labels\n",
    "    title='Synthetic Data Points (3D view)',\n",
    "    scene=dict(\n",
    "        xaxis_title='x1',\n",
    "        yaxis_title='x2',\n",
    "        zaxis_title='y',\n",
    "        aspectmode='cube',\n",
    "        zaxis=dict(range=[-75, 100]) # <-- Set y (z) axis range\n",
    "    )\n",
    ")\n",
    "\n",
    "fig.show() # Show plot\n"
   ]
  },
  {
   "cell_type": "markdown",
   "id": "5aa1a7c7",
   "metadata": {},
   "source": [
    "\n",
    "## 3) Training loop\n",
    "We track $(w_1, w_2, loss)$ each step for visualization purposes.\n"
   ]
  },
  {
   "cell_type": "code",
   "execution_count": null,
   "id": "23f0c46c",
   "metadata": {
    "ExecuteTime": {
     "end_time": "2025-09-22T13:56:51.045800Z",
     "start_time": "2025-09-22T13:56:51.042287Z"
    }
   },
   "outputs": [],
   "source": [
    "#Defining the loss and gradient functions\n",
    "# @ operator means matrix multiplication\n",
    "def loss(w):\n",
    "    r = X @ w - y\n",
    "    return (r @ r) / (2.0 * len(y))\n",
    "\n",
    "def grad(w):\n",
    "    r = X @ w - y\n",
    "    return (X.T @ r) / len(y)\n",
    "\n",
    "\n",
    "w0 = np.array([-3.0, 30.0])   # poor init to show movement\n",
    "eta = 0.25 # learning rate\n",
    "steps = 30  # number of gradient descent steps\n",
    "\n",
    "w = w0.copy()\n",
    "path = []\n",
    "for _ in range(steps): # Gradient descent loop to optimize weights (training)\n",
    "    path.append([w[0], w[1], loss(w)])\n",
    "    w -= eta * grad(w)\n",
    "path = np.array(path) # Store the path of weights and losses for each step for later visualization\n",
    "w_final = path[-1,:2]; j_final = path[-1,2]\n",
    "\n",
    "# For later plots\n",
    "y_hat_init  = X @ w0\n",
    "y_hat_final = X @ w_final"
   ]
  },
  {
   "cell_type": "markdown",
   "id": "f1e0504c",
   "metadata": {},
   "source": [
    "\n",
    "## 4) Model plane during the training vs data\n",
    "This 3D plot shows the data points and the model's plane prediction during training.\n"
   ]
  },
  {
   "cell_type": "code",
   "execution_count": null,
   "id": "00fd2b22",
   "metadata": {
    "ExecuteTime": {
     "end_time": "2025-09-22T13:57:17.401699Z",
     "start_time": "2025-09-22T13:57:17.368Z"
    }
   },
   "outputs": [],
   "source": [
    "x1_grid = np.linspace(X[:,0].min()-0.5, X[:,0].max()+0.5, 25)\n",
    "x2_grid = np.linspace(X[:,1].min()-0.5, X[:,1].max()+0.5, 25)\n",
    "X1g, X2g = np.meshgrid(x1_grid, x2_grid)\n",
    "\n",
    "def plane_z(w):\n",
    "    return w[0]*X1g + w[1]*X2g\n",
    "\n",
    "# Calculate z-range for all steps to keep axis fixed\n",
    "all_plane_z = np.array([plane_z(p[:2]) for p in path])\n",
    "z_min = min(y.min(), all_plane_z.min())\n",
    "z_max = max(y.max(), all_plane_z.max())\n",
    "\n",
    "\n",
    "# Create figure with slider\n",
    "fig = go.Figure()\n",
    "\n",
    "# Add initial data points (trace 0)\n",
    "fig.add_trace(go.Scatter3d(x=X[:,0], y=X[:,1], z=y, mode='markers', name='Data'))\n",
    "\n",
    "# Add initial model plane (trace 1)\n",
    "fig.add_trace(go.Surface(x=X1g, y=X2g, z=plane_z(path[0][:2]), opacity=0.5, colorscale='viridis', showscale=False))\n",
    "\n",
    "# Create and add slider\n",
    "steps_slider = []\n",
    "for i in range(len(path)):\n",
    "    step = dict(\n",
    "        method=\"update\",\n",
    "        args=[\n",
    "            # Update z for both traces: data points (trace 0) and surface (trace 1)\n",
    "            {\"z\": [y, plane_z(path[i][0:2])]},\n",
    "            {\"title\": f\"Model Plane at Step {i}\"}\n",
    "        ],\n",
    "        label=str(i)\n",
    "    )\n",
    "    steps_slider.append(step)\n",
    "\n",
    "sliders = [dict(\n",
    "    active=0,\n",
    "    currentvalue={\"prefix\": \"Step: \"},\n",
    "    pad={\"t\": 50},\n",
    "    steps=steps_slider\n",
    ")]\n",
    "\n",
    "fig.update_layout(\n",
    "    sliders=sliders,\n",
    "    title='Model Plane at Step 0',\n",
    "    scene=dict(\n",
    "        xaxis_title='x1',\n",
    "        yaxis_title='x2',\n",
    "        zaxis_title='y',\n",
    "        aspectmode='cube',\n",
    "        zaxis=dict(range=[z_min, z_max]) # Set fixed z-axis range\n",
    "    ),\n",
    "    width=700,   # Fixed width\n",
    "    height=600   # Fixed height\n",
    ")\n",
    "\n",
    "fig.show()"
   ]
  },
  {
   "cell_type": "markdown",
   "id": "01263330",
   "metadata": {},
   "source": [
    "\n",
    "## 5) Gradient descent on the loss surface\n",
    "This plot shows the \"hill\" (loss surface) and how gradient descent walks down it to find the minimum loss.\n"
   ]
  },
  {
   "cell_type": "code",
   "execution_count": null,
   "id": "6ef9f90c83b96acc",
   "metadata": {},
   "outputs": [],
   "source": [
    "# Create a grid for the loss surface\n",
    "w1_grid = np.linspace(path[:,0].min()-1, path[:,0].max()+1, 30)\n",
    "w2_grid = np.linspace(-30, 30, 30) # Use fixed range for w2\n",
    "W1g, W2g = np.meshgrid(w1_grid, w2_grid)\n",
    "J_grid = np.array([loss(np.array([w1, w2])) for w1, w2 in zip(np.ravel(W1g), np.ravel(W2g))]).reshape(W1g.shape)\n",
    "\n",
    "# Create figure with slider\n",
    "fig = go.Figure()\n",
    "\n",
    "# Add loss surface (trace 0)\n",
    "fig.add_trace(go.Surface(x=W1g, y=W2g, z=J_grid, opacity=0.7, colorscale='cividis', name='Loss Surface', showscale=False))\n",
    "\n",
    "# Add the full path (trace 1) but make it subtle\n",
    "fig.add_trace(go.Scatter3d(x=path[:,0], y=path[:,1], z=path[:,2], mode='lines',\n",
    "                           line=dict(color='lightgrey', width=4),\n",
    "                           name='Full Path'))\n",
    "\n",
    "# Add a marker for the current step (trace 2)\n",
    "fig.add_trace(go.Scatter3d(x=[path[0,0]], y=[path[0,1]], z=[path[0,2]], mode='markers',\n",
    "                           marker=dict(color='red', size=5),\n",
    "                           name='Current Step'))\n",
    "\n",
    "# Create and add slider\n",
    "steps_slider = []\n",
    "for i in range(len(path)):\n",
    "    step = dict(\n",
    "        method=\"update\",\n",
    "        args=[\n",
    "            # Update only the current step marker (trace 2)\n",
    "            {\"x\": [path[i:i+1,0]], \"y\": [path[i:i+1,1]], \"z\": [path[i:i+1,2]]},\n",
    "            {\"title\": f\"Gradient Descent on Loss Surface (Step {i})\"},\n",
    "            [2] # index of trace to update\n",
    "        ],\n",
    "        label=str(i)\n",
    "    )\n",
    "    steps_slider.append(step)\n",
    "\n",
    "sliders = [dict(\n",
    "    active=0,\n",
    "    currentvalue={\"prefix\": \"Step: \"},\n",
    "    pad={\"t\": 50},\n",
    "    steps=steps_slider\n",
    ")]\n",
    "\n",
    "# Set fixed axis ranges and update title\n",
    "fig.update_layout(\n",
    "    sliders=sliders,\n",
    "    title='Gradient Descent on Loss Surface (Step 0)',\n",
    "    scene=dict(\n",
    "        xaxis_title='w1',\n",
    "        yaxis_title='w2',\n",
    "        zaxis_title='Loss J',\n",
    "        aspectmode='cube',\n",
    "        xaxis=dict(range=[w1_grid.min(), w1_grid.max()]),\n",
    "        yaxis=dict(range=[30, -30]),\n",
    "        zaxis=dict(range=[min(J_grid.min(), path[:, 2].min()), max(J_grid.max(), path[:, 2].max())])\n",
    "    )\n",
    ")\n",
    "\n",
    "fig.show()\n"
   ]
  }
 ],
 "metadata": {
  "kernelspec": {
   "display_name": "ML_Visualization",
   "language": "python",
   "name": "python3"
  },
  "language_info": {
   "codemirror_mode": {
    "name": "ipython",
    "version": 3
   },
   "file_extension": ".py",
   "mimetype": "text/x-python",
   "name": "python",
   "nbconvert_exporter": "python",
   "pygments_lexer": "ipython3",
   "version": "3.13.7"
  }
 },
 "nbformat": 4,
 "nbformat_minor": 5
}
