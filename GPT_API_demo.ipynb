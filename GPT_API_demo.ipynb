{
 "cells": [
  {
   "cell_type": "markdown",
   "id": "eb478ab2",
   "metadata": {},
   "source": [
    "\n",
    "#  News → GPT‑5 → JSON (date, title, interest)\n",
    "\n",
    "Notebook demo: given a URL of a news article, we extract the title and date in local format and ask GPT‑5 to estimate an interest level for the user (0–10) returning a Pydantic-validated object.\n",
    "\n",
    "**Output:** {\"date\":\"YYYY-MM-DD\",\"title\":\"...\", \"interest_level\": 0}\n",
    "\n",
    "> Before running: set the OPENAI_API_KEY environment variable (or paste it in the Config cell).\n"
   ]
  },
  {
   "cell_type": "code",
   "execution_count": null,
   "id": "5ccf4793",
   "metadata": {},
   "outputs": [],
   "source": [
    "\n",
    "import os, json, re\n",
    "from datetime import datetime\n",
    "import requests\n",
    "from bs4 import BeautifulSoup\n",
    "import dateparser\n",
    "from pydantic import BaseModel, Field, field_validator\n",
    "from openai import OpenAI\n",
    "\n",
    "# API key: from env or paste here\n",
    "OPENAI_API_KEY = os.getenv(\"OPENAI_API_KEY\") or \"\"  \n",
    "assert OPENAI_API_KEY, \"Set OPENAI_API_KEY (env or in this cell).\"\n",
    "\n",
    "client = OpenAI(api_key=OPENAI_API_KEY)"
   ]
  },
  {
   "cell_type": "code",
   "execution_count": null,
   "id": "aff07dc7",
   "metadata": {},
   "outputs": [],
   "source": [
    "# Text extraction from URL utilities\n",
    "HEADERS = {\n",
    "    \"User-Agent\": \"Mozilla/5.0 (X11; Linux x86_64) AppleWebKit/537.36 \"\n",
    "                  \"(KHTML, like Gecko) Chrome/122.0.0.0 Safari/537.36\"\n",
    "}\n",
    "\n",
    "def fetch_html(url: str, timeout: int = 20) -> str:\n",
    "    r = requests.get(url, headers=HEADERS, timeout=timeout)\n",
    "    r.raise_for_status()\n",
    "    return r.text\n",
    "\n",
    "def extract_text_snippet(soup, max_chars: int = 2000) -> str:\n",
    "    # remove non-content elements\n",
    "    for tag in soup([\"script\", \"style\", \"nav\", \"footer\", \"header\", \"noscript\", \"aside\"]):\n",
    "        tag.decompose()\n",
    "    text = soup.get_text(\" \", strip=True)\n",
    "    text = re.sub(r\"\\s+\", \" \", text)\n",
    "    return text[:max_chars]\n"
   ]
  },
  {
   "cell_type": "code",
   "execution_count": null,
   "id": "fbe0b6a6",
   "metadata": {},
   "outputs": [],
   "source": [
    "# The strcuctured output we want as output from GPT-5\n",
    "class NewsInterest(BaseModel):\n",
    "    date: str = Field(description=\"Date in ISO YYYY-MM-DD format or empty string if not found\")\n",
    "    title: str\n",
    "    interest_level: int = Field(ge=0, le=10, description=\"Integer from 0 to 10\")\n",
    "\n",
    "    @field_validator(\"date\")\n",
    "    @classmethod\n",
    "    def validate_date(cls, v):\n",
    "        if not v:\n",
    "            return v\n",
    "        # quick ISO format validation\n",
    "        try:\n",
    "            datetime.fromisoformat(v)\n",
    "        except Exception:\n",
    "            raise ValueError(\"date must be ISO YYYY-MM-DD or empty\")\n",
    "        return v\n",
    "\n",
    "def score_with_gpt5(snippet: str, user_interests: str, user_dislike: str) -> NewsInterest:\n",
    "    system = (\n",
    "        \"You are a system that returns a NewsInterest object with the fields \"\n",
    "        \"date, title, interest_level. interest_level is an integer 0–10 representing relevance.\"\n",
    "    )\n",
    "    user = f\"\"\"\n",
    "            USER_INTERESTS: {user_interests}\n",
    "            USER_DISLIKE: {user_dislike}\n",
    "            ARTICLE_TEXT_SNIPPET: {snippet}\n",
    "            CURRENT_DATE: {datetime.now().date().isoformat()}\n",
    "\n",
    "            Guidelines:\n",
    "            - 0–2: low relevance; 3–5: medium/broad; 6–8: highly relevant; 9–10: extremely relevant.\n",
    "            - Consider recency: older articles are less interesting at equal topic relevance.\n",
    "            \"\"\"\n",
    "\n",
    "    # Use model parsing directly (Pydantic) with the Responses API\n",
    "    resp = client.responses.parse(\n",
    "        model=\"gpt-5\",\n",
    "        input=[\n",
    "            {\"role\": \"system\", \"content\": system},\n",
    "            {\"role\": \"user\", \"content\": user},\n",
    "        ],\n",
    "        text_format=NewsInterest,\n",
    "    )\n",
    "    if resp.output_parsed is None:\n",
    "        raise ValueError(\"Failed to parse NewsInterest from GPT-5 response.\")\n",
    "    return resp.output_parsed\n",
    "\n",
    "def analyze_url(url: str, user_interests: str, user_dislike: str) -> dict:\n",
    "    html = fetch_html(url)\n",
    "    soup = BeautifulSoup(html, \"html5lib\")\n",
    "    snippet = extract_text_snippet(soup)\n",
    "    parsed = score_with_gpt5(snippet=snippet, user_interests=user_interests, user_dislike=user_dislike)\n",
    "    return parsed.model_dump()\n"
   ]
  },
  {
   "cell_type": "code",
   "execution_count": null,
   "id": "3f31c4d3",
   "metadata": {},
   "outputs": [],
   "source": [
    "# Article about AI Datacenter\n",
    "URL = \"https://www.bbc.com/news/articles/ckg2ldpl9leo\"\n",
    "\n",
    "USER_INTERESTS = \"AI, cats\"\n",
    "USER_DISLIKE =  \"sports\"\n",
    "\n",
    "result = analyze_url(URL, USER_INTERESTS, USER_DISLIKE)\n",
    "print(json.dumps(result, ensure_ascii=False, indent=2))"
   ]
  },
  {
   "cell_type": "code",
   "execution_count": null,
   "id": "19d9dbc9",
   "metadata": {},
   "outputs": [],
   "source": [
    "# Article about AI Datacenter\n",
    "URL = \"https://www.bbc.com/news/articles/ckg2ldpl9leo\"\n",
    "\n",
    "USER_INTERESTS = \"Fashion, cars\"\n",
    "USER_DISLIKE =  \"sports\"\n",
    "\n",
    "result = analyze_url(URL, USER_INTERESTS, USER_DISLIKE)\n",
    "print(json.dumps(result, ensure_ascii=False, indent=2))"
   ]
  }
 ],
 "metadata": {
  "kernelspec": {
   "display_name": "ai-viz",
   "language": "python",
   "name": "python3"
  },
  "language_info": {
   "codemirror_mode": {
    "name": "ipython",
    "version": 3
   },
   "file_extension": ".py",
   "mimetype": "text/x-python",
   "name": "python",
   "nbconvert_exporter": "python",
   "pygments_lexer": "ipython3",
   "version": "3.13.7"
  }
 },
 "nbformat": 4,
 "nbformat_minor": 5
}
